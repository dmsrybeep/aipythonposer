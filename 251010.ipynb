{
  "nbformat": 4,
  "nbformat_minor": 0,
  "metadata": {
    "colab": {
      "provenance": []
    },
    "kernelspec": {
      "name": "python3",
      "display_name": "Python 3"
    },
    "language_info": {
      "name": "python"
    }
  },
  "cells": [
    {
      "cell_type": "code",
      "execution_count": 5,
      "metadata": {
        "id": "XX6DQh3ckR_R"
      },
      "outputs": [],
      "source": [
        "prices = [1000, 2500, 3000, 1500, 5000]"
      ]
    },
    {
      "cell_type": "code",
      "source": [
        "English = ['a', 'b', 'c', 'd', 'e']"
      ],
      "metadata": {
        "id": "NZj3Tx0plBMY"
      },
      "execution_count": 7,
      "outputs": []
    },
    {
      "cell_type": "code",
      "source": [
        "English"
      ],
      "metadata": {
        "colab": {
          "base_uri": "https://localhost:8080/"
        },
        "id": "e_5y85-glkSm",
        "outputId": "be7d7336-c1e2-43a1-e7da-871dcbdab90f"
      },
      "execution_count": 8,
      "outputs": [
        {
          "output_type": "execute_result",
          "data": {
            "text/plain": [
              "['a', 'b', 'c', 'd', 'e']"
            ]
          },
          "metadata": {},
          "execution_count": 8
        }
      ]
    },
    {
      "cell_type": "code",
      "source": [
        "prices"
      ],
      "metadata": {
        "colab": {
          "base_uri": "https://localhost:8080/"
        },
        "id": "4hart5nYlzOP",
        "outputId": "8a62b021-703a-495a-ce1d-3917d9c79516"
      },
      "execution_count": 9,
      "outputs": [
        {
          "output_type": "execute_result",
          "data": {
            "text/plain": [
              "[1000, 2500, 3000, 1500, 5000]"
            ]
          },
          "metadata": {},
          "execution_count": 9
        }
      ]
    },
    {
      "cell_type": "code",
      "source": [
        "type(English)"
      ],
      "metadata": {
        "colab": {
          "base_uri": "https://localhost:8080/"
        },
        "id": "lMq-V-ovl00X",
        "outputId": "33d4d8f4-976a-42f2-96c4-e6682db38a84"
      },
      "execution_count": 10,
      "outputs": [
        {
          "output_type": "execute_result",
          "data": {
            "text/plain": [
              "list"
            ]
          },
          "metadata": {},
          "execution_count": 10
        }
      ]
    },
    {
      "cell_type": "code",
      "source": [
        "for i in range(len(English)):\n",
        "  English[i] = English[i] * 10"
      ],
      "metadata": {
        "id": "QBKfXVOfl5dm"
      },
      "execution_count": 12,
      "outputs": []
    },
    {
      "cell_type": "code",
      "source": [
        "English"
      ],
      "metadata": {
        "colab": {
          "base_uri": "https://localhost:8080/"
        },
        "id": "evfvYf-6mN2f",
        "outputId": "5e727695-abe1-482e-9996-1c5e028fe2f8"
      },
      "execution_count": 13,
      "outputs": [
        {
          "output_type": "execute_result",
          "data": {
            "text/plain": [
              "['aaaaaaaaaa', 'bbbbbbbbbb', 'cccccccccc', 'dddddddddd', 'eeeeeeeeee']"
            ]
          },
          "metadata": {},
          "execution_count": 13
        }
      ]
    },
    {
      "cell_type": "code",
      "source": [
        "books=[]"
      ],
      "metadata": {
        "id": "KXIQ17UzmcJ1"
      },
      "execution_count": 14,
      "outputs": []
    },
    {
      "cell_type": "code",
      "source": [
        "books.append('파이썬')"
      ],
      "metadata": {
        "id": "50XuaXK6nwID"
      },
      "execution_count": 15,
      "outputs": []
    },
    {
      "cell_type": "code",
      "source": [
        "books.append('c')"
      ],
      "metadata": {
        "id": "Obg9Jp5pn03k"
      },
      "execution_count": 16,
      "outputs": []
    },
    {
      "cell_type": "code",
      "source": [
        "books.append('자바')"
      ],
      "metadata": {
        "id": "RPPfm7qin4Hz"
      },
      "execution_count": 17,
      "outputs": []
    },
    {
      "cell_type": "code",
      "source": [
        "books"
      ],
      "metadata": {
        "colab": {
          "base_uri": "https://localhost:8080/"
        },
        "id": "XVympamBn7GD",
        "outputId": "08692922-2832-4761-aa2f-1eebbe978cb7"
      },
      "execution_count": 18,
      "outputs": [
        {
          "output_type": "execute_result",
          "data": {
            "text/plain": [
              "['파이썬', 'c', '자바']"
            ]
          },
          "metadata": {},
          "execution_count": 18
        }
      ]
    },
    {
      "cell_type": "code",
      "source": [
        "books.insert(2, 'go')"
      ],
      "metadata": {
        "id": "tH4vEHH4n8Fs"
      },
      "execution_count": 20,
      "outputs": []
    },
    {
      "cell_type": "code",
      "source": [
        "books"
      ],
      "metadata": {
        "colab": {
          "base_uri": "https://localhost:8080/"
        },
        "id": "tOvFORcZorIz",
        "outputId": "1a01c9d6-0e55-46d5-b565-ced042cf94a4"
      },
      "execution_count": 21,
      "outputs": [
        {
          "output_type": "execute_result",
          "data": {
            "text/plain": [
              "['파이썬', 'c', 'go', '자바']"
            ]
          },
          "metadata": {},
          "execution_count": 21
        }
      ]
    },
    {
      "cell_type": "code",
      "source": [
        "교수님 빨라서 못 따라가겠어요"
      ],
      "metadata": {
        "colab": {
          "base_uri": "https://localhost:8080/",
          "height": 110
        },
        "id": "yn4I6Vp0pZDx",
        "outputId": "436a66bd-b26c-44b8-d00b-2bcc2f358267"
      },
      "execution_count": 29,
      "outputs": [
        {
          "output_type": "error",
          "ename": "SyntaxError",
          "evalue": "invalid syntax (ipython-input-489234652.py, line 1)",
          "traceback": [
            "\u001b[0;36m  File \u001b[0;32m\"/tmp/ipython-input-489234652.py\"\u001b[0;36m, line \u001b[0;32m1\u001b[0m\n\u001b[0;31m    교수님 빨라서 못 따라가겠어요\u001b[0m\n\u001b[0m        ^\u001b[0m\n\u001b[0;31mSyntaxError\u001b[0m\u001b[0;31m:\u001b[0m invalid syntax\n"
          ]
        }
      ]
    },
    {
      "cell_type": "code",
      "source": [
        "books.reverse()"
      ],
      "metadata": {
        "id": "IC1nTVD8qYop"
      },
      "execution_count": 30,
      "outputs": []
    },
    {
      "cell_type": "code",
      "source": [
        "books"
      ],
      "metadata": {
        "colab": {
          "base_uri": "https://localhost:8080/"
        },
        "id": "A21l2lfZqdMJ",
        "outputId": "7d8cf372-3211-40e0-c45d-c7ab994ea0ee"
      },
      "execution_count": 31,
      "outputs": [
        {
          "output_type": "execute_result",
          "data": {
            "text/plain": [
              "['l',\n",
              " 'a',\n",
              " 'c',\n",
              " 's',\n",
              " 'a',\n",
              " 'P',\n",
              " '+',\n",
              " '+',\n",
              " 'C',\n",
              " 'C++Pascal',\n",
              " 'l',\n",
              " 'a',\n",
              " 'c',\n",
              " 's',\n",
              " 'a',\n",
              " 'P',\n",
              " '+',\n",
              " '+',\n",
              " 'C',\n",
              " '자바',\n",
              " 'go',\n",
              " 'c',\n",
              " '파이썬']"
            ]
          },
          "metadata": {},
          "execution_count": 31
        }
      ]
    },
    {
      "cell_type": "code",
      "source": [
        "books = ['파이썬', 'c', 'GO', '자바', 'C++', 'Pascal']"
      ],
      "metadata": {
        "id": "skYbFykfqdr4"
      },
      "execution_count": 33,
      "outputs": []
    },
    {
      "cell_type": "code",
      "source": [
        "'자바' in books"
      ],
      "metadata": {
        "colab": {
          "base_uri": "https://localhost:8080/"
        },
        "id": "Q0nm8uwjrPWg",
        "outputId": "eb220db8-4e70-4c3e-b03c-5da3e361cb67"
      },
      "execution_count": 34,
      "outputs": [
        {
          "output_type": "execute_result",
          "data": {
            "text/plain": [
              "True"
            ]
          },
          "metadata": {},
          "execution_count": 34
        }
      ]
    },
    {
      "cell_type": "code",
      "source": [
        "'java' in books"
      ],
      "metadata": {
        "colab": {
          "base_uri": "https://localhost:8080/"
        },
        "id": "xxK8nGqzrWT_",
        "outputId": "1d60878c-855c-4729-8d74-df8be833e652"
      },
      "execution_count": 35,
      "outputs": [
        {
          "output_type": "execute_result",
          "data": {
            "text/plain": [
              "False"
            ]
          },
          "metadata": {},
          "execution_count": 35
        }
      ]
    },
    {
      "cell_type": "code",
      "source": [
        "books.index('자바')"
      ],
      "metadata": {
        "colab": {
          "base_uri": "https://localhost:8080/"
        },
        "id": "T2ubueT4rZdn",
        "outputId": "1dce6c46-6eec-4647-a07b-9067e4185690"
      },
      "execution_count": 36,
      "outputs": [
        {
          "output_type": "execute_result",
          "data": {
            "text/plain": [
              "3"
            ]
          },
          "metadata": {},
          "execution_count": 36
        }
      ]
    },
    {
      "cell_type": "code",
      "source": [
        " import random\n",
        " random.choice(books)"
      ],
      "metadata": {
        "colab": {
          "base_uri": "https://localhost:8080/",
          "height": 35
        },
        "id": "Qaga9wEirnBv",
        "outputId": "1bea1d58-b3b6-4713-cfc2-eea8e2bb6735"
      },
      "execution_count": 38,
      "outputs": [
        {
          "output_type": "execute_result",
          "data": {
            "text/plain": [
              "'C++'"
            ],
            "application/vnd.google.colaboratory.intrinsic+json": {
              "type": "string"
            }
          },
          "metadata": {},
          "execution_count": 38
        }
      ]
    },
    {
      "cell_type": "code",
      "source": [
        "total = 0\n",
        "for i in range(len(prices)):\n",
        "  total += prices[i]\n",
        "  print (total)"
      ],
      "metadata": {
        "colab": {
          "base_uri": "https://localhost:8080/"
        },
        "id": "cs_WhW7cr22u",
        "outputId": "d98e119a-4c07-4798-c022-f83962bf7672"
      },
      "execution_count": 41,
      "outputs": [
        {
          "output_type": "stream",
          "name": "stdout",
          "text": [
            "1050.0\n",
            "3675.0\n",
            "6825.0\n",
            "8400.0\n",
            "13650.0\n"
          ]
        }
      ]
    },
    {
      "cell_type": "code",
      "source": [],
      "metadata": {
        "id": "SCcpGvpDtdHF"
      },
      "execution_count": null,
      "outputs": []
    },
    {
      "cell_type": "code",
      "source": [
        "dynasties = [\n",
        "    '태조', '정종', '태종', '세종', '문종', '단종', '세조', '예종', '성종',\n",
        "    '연산군', '중종', '인종', '명종', '선조', '광해군', '인조', '효종', '현종',\n",
        "    '숙종', '경종', '영조', '정조', '순조', '헌종', '철종', '고종', '순종'\n",
        "]"
      ],
      "metadata": {
        "id": "8Bv95ZsTuSh0"
      },
      "execution_count": 42,
      "outputs": []
    },
    {
      "cell_type": "code",
      "source": [
        "num = int(input(\"숫자를 입력하세요.\"))\n",
        "if num>=1 or num<=27:\n",
        "  print(num-1,index(num-1))\n",
        "  else:\n",
        "    print(\"다시 입력하세요.\")"
      ],
      "metadata": {
        "colab": {
          "base_uri": "https://localhost:8080/",
          "height": 110
        },
        "id": "MEnFMSuluS-E",
        "outputId": "2fc8cce6-b225-4f07-f9f0-0b09a05fb007"
      },
      "execution_count": 44,
      "outputs": [
        {
          "output_type": "error",
          "ename": "SyntaxError",
          "evalue": "invalid syntax (ipython-input-2996517486.py, line 4)",
          "traceback": [
            "\u001b[0;36m  File \u001b[0;32m\"/tmp/ipython-input-2996517486.py\"\u001b[0;36m, line \u001b[0;32m4\u001b[0m\n\u001b[0;31m    else:\u001b[0m\n\u001b[0m    ^\u001b[0m\n\u001b[0;31mSyntaxError\u001b[0m\u001b[0;31m:\u001b[0m invalid syntax\n"
          ]
        }
      ]
    },
    {
      "cell_type": "code",
      "source": [
        "num = int(input(\"숫자를 입력하세요.\"))\n",
        "if num>=1 and num<=27:\n",
        "    print(f\"{num}: dynasties{num-1}\")\n",
        "else:\n",
        "        print(\"1부터 27 사이의 숫자를 다시 입력하세요.\")"
      ],
      "metadata": {
        "colab": {
          "base_uri": "https://localhost:8080/"
        },
        "id": "L_TiXGwGvatU",
        "outputId": "a1c88b37-e359-4574-fc1e-149f8b3ae274"
      },
      "execution_count": 47,
      "outputs": [
        {
          "output_type": "stream",
          "name": "stdout",
          "text": [
            "숫자를 입력하세요.5\n",
            "5: dynasties4\n"
          ]
        }
      ]
    },
    {
      "cell_type": "code",
      "source": [
        "for i in range(len(dynasties)):\n",
        "  print(f\"{i+1}대 {dynasties[i]}\")"
      ],
      "metadata": {
        "colab": {
          "base_uri": "https://localhost:8080/"
        },
        "id": "ujHgoYBXwbxC",
        "outputId": "3281f40d-7c69-4411-9e2d-798ba2e59d0a"
      },
      "execution_count": 48,
      "outputs": [
        {
          "output_type": "stream",
          "name": "stdout",
          "text": [
            "1대 태조\n",
            "2대 정종\n",
            "3대 태종\n",
            "4대 세종\n",
            "5대 문종\n",
            "6대 단종\n",
            "7대 세조\n",
            "8대 예종\n",
            "9대 성종\n",
            "10대 연산군\n",
            "11대 중종\n",
            "12대 인종\n",
            "13대 명종\n",
            "14대 선조\n",
            "15대 광해군\n",
            "16대 인조\n",
            "17대 효종\n",
            "18대 현종\n",
            "19대 숙종\n",
            "20대 경종\n",
            "21대 영조\n",
            "22대 정조\n",
            "23대 순조\n",
            "24대 헌종\n",
            "25대 철종\n",
            "26대 고종\n",
            "27대 순종\n"
          ]
        }
      ]
    },
    {
      "cell_type": "code",
      "source": [
        "char1=\"\\'한글\\'사용법\""
      ],
      "metadata": {
        "id": "RHIwl3Fbw385"
      },
      "execution_count": 51,
      "outputs": []
    },
    {
      "cell_type": "code",
      "source": [
        "char1"
      ],
      "metadata": {
        "colab": {
          "base_uri": "https://localhost:8080/",
          "height": 35
        },
        "id": "uSlVTjb_0mmt",
        "outputId": "4566cc1e-8fc0-4d0b-ec23-9667af5da85d"
      },
      "execution_count": 52,
      "outputs": [
        {
          "output_type": "execute_result",
          "data": {
            "text/plain": [
              "\"'한글'사용법\""
            ],
            "application/vnd.google.colaboratory.intrinsic+json": {
              "type": "string"
            }
          },
          "metadata": {},
          "execution_count": 52
        }
      ]
    },
    {
      "cell_type": "code",
      "source": [
        "char1='한글\\n사용법'"
      ],
      "metadata": {
        "id": "XqspnXxO1HQm"
      },
      "execution_count": 53,
      "outputs": []
    },
    {
      "cell_type": "code",
      "source": [
        "print(char1)"
      ],
      "metadata": {
        "colab": {
          "base_uri": "https://localhost:8080/"
        },
        "id": "wKWONuXT1hPs",
        "outputId": "701614e2-efb0-4be9-af39-9461a9beb31f"
      },
      "execution_count": 55,
      "outputs": [
        {
          "output_type": "stream",
          "name": "stdout",
          "text": [
            "한글\n",
            "사용법\n"
          ]
        }
      ]
    },
    {
      "cell_type": "code",
      "source": [
        "'Phython'.upper()"
      ],
      "metadata": {
        "colab": {
          "base_uri": "https://localhost:8080/",
          "height": 35
        },
        "id": "ekmZcD2C1iSc",
        "outputId": "1b876e27-c9ee-4bd0-8ff1-d2f199e69aad"
      },
      "execution_count": 56,
      "outputs": [
        {
          "output_type": "execute_result",
          "data": {
            "text/plain": [
              "'PHYTHON'"
            ],
            "application/vnd.google.colaboratory.intrinsic+json": {
              "type": "string"
            }
          },
          "metadata": {},
          "execution_count": 56
        }
      ]
    },
    {
      "cell_type": "code",
      "source": [
        "'I like apple'.split(' ')"
      ],
      "metadata": {
        "colab": {
          "base_uri": "https://localhost:8080/"
        },
        "id": "eOGZEje23LvL",
        "outputId": "da7400b7-5540-49f3-a371-6ee79c61786a"
      },
      "execution_count": 57,
      "outputs": [
        {
          "output_type": "execute_result",
          "data": {
            "text/plain": [
              "['I', 'like', 'apple']"
            ]
          },
          "metadata": {},
          "execution_count": 57
        }
      ]
    },
    {
      "cell_type": "code",
      "source": [
        "a = input('문자를 입력하세요.')\n",
        " if a == int\n",
        "  print('a')\n",
        "  else\n",
        "  print('문자를 입력하세요.')"
      ],
      "metadata": {
        "colab": {
          "base_uri": "https://localhost:8080/",
          "height": 110
        },
        "id": "lOGRrFk23q3T",
        "outputId": "074565af-eaf7-40d4-8451-1cd579d6338d"
      },
      "execution_count": 60,
      "outputs": [
        {
          "output_type": "error",
          "ename": "IndentationError",
          "evalue": "unexpected indent (ipython-input-3614407578.py, line 2)",
          "traceback": [
            "\u001b[0;36m  File \u001b[0;32m\"/tmp/ipython-input-3614407578.py\"\u001b[0;36m, line \u001b[0;32m2\u001b[0m\n\u001b[0;31m    if a == int\u001b[0m\n\u001b[0m    ^\u001b[0m\n\u001b[0;31mIndentationError\u001b[0m\u001b[0;31m:\u001b[0m unexpected indent\n"
          ]
        }
      ]
    },
    {
      "cell_type": "code",
      "source": [
        "a = input('문자를 입력하세요.')\n",
        "if a.isdifit():\n",
        "  print('a')\n",
        "else:\n",
        "    print(\"문자를 입력하세요.\")"
      ],
      "metadata": {
        "colab": {
          "base_uri": "https://localhost:8080/"
        },
        "id": "wjmfjzbS4aQa",
        "outputId": "d42773c3-0a67-4044-a5b9-f528698f3f09"
      },
      "execution_count": 68,
      "outputs": [
        {
          "output_type": "stream",
          "name": "stdout",
          "text": [
            "문자를 입력하세요.ㅓㅓ\n",
            "문자를 입력하세요.\n"
          ]
        }
      ]
    },
    {
      "cell_type": "code",
      "source": [
        "a=input(\"순번 또는 왕의 이름을 입력:\")\n",
        "if a.isdigit():\n",
        "  i=int(a)\n",
        "  print(\"dynasties(i+1)\")\n",
        "else:\n",
        "  print(\"dynasties(i)\")"
      ],
      "metadata": {
        "colab": {
          "base_uri": "https://localhost:8080/"
        },
        "id": "WAufFVj75H5Y",
        "outputId": "8628c07b-76bd-446d-9ffb-57a68beda0a9"
      },
      "execution_count": 73,
      "outputs": [
        {
          "output_type": "stream",
          "name": "stdout",
          "text": [
            "순번 또는 왕의 이름을 입력:4\n",
            "dynasties(i+1)\n"
          ]
        }
      ]
    },
    {
      "cell_type": "code",
      "source": [
        "ㅠㅠ='아ㅏㅏㅏㅏㅏㅏㅏㅏㅏㅏㅏㅏㅏㅏㅏㅏㅏㅏㅏㅏㅏㅏ모르겟다'"
      ],
      "metadata": {
        "id": "15ex503q7DYm"
      },
      "execution_count": 74,
      "outputs": []
    },
    {
      "cell_type": "code",
      "source": [
        "ㅠㅠ"
      ],
      "metadata": {
        "colab": {
          "base_uri": "https://localhost:8080/",
          "height": 35
        },
        "id": "N4m8oxBW7HqO",
        "outputId": "7ed6efe1-9689-4302-f507-f1fd9c7d0b35"
      },
      "execution_count": 72,
      "outputs": [
        {
          "output_type": "execute_result",
          "data": {
            "text/plain": [
              "'아ㅏㅏㅏㅏㅏㅏㅏㅏㅏㅏㅏㅏㅏㅏㅏㅏㅏㅏㅏㅏㅏㅏ모르겟다'"
            ],
            "application/vnd.google.colaboratory.intrinsic+json": {
              "type": "string"
            }
          },
          "metadata": {},
          "execution_count": 72
        }
      ]
    },
    {
      "cell_type": "code",
      "source": [
        "ans=input(\"순번 또는 왕의 이름을 입력\")\n",
        "if ans.isdigit():\n",
        "  i=int(ans)\n",
        "  print(dynasties[i-1])\n",
        "else:\n",
        "  print(dynasties.index(ans)+1)"
      ],
      "metadata": {
        "colab": {
          "base_uri": "https://localhost:8080/"
        },
        "id": "Dl9MJqou7Mq-",
        "outputId": "a5d575ab-76d8-4a7f-9b51-5b11d4fe10af"
      },
      "execution_count": 75,
      "outputs": [
        {
          "output_type": "stream",
          "name": "stdout",
          "text": [
            "순번 또는 왕의 이름을 입력4\n",
            "세종\n"
          ]
        }
      ]
    },
    {
      "cell_type": "code",
      "source": [
        "coffee= {'아메리카노':2000, '라테':3000, '녹차':2500}"
      ],
      "metadata": {
        "id": "lrXxZnlR8bxm"
      },
      "execution_count": 76,
      "outputs": []
    },
    {
      "cell_type": "code",
      "source": [
        "coffee"
      ],
      "metadata": {
        "colab": {
          "base_uri": "https://localhost:8080/"
        },
        "id": "i-Yss49W-2Rj",
        "outputId": "a7b9bc95-84f1-4129-d7a3-f3c5a37729df"
      },
      "execution_count": 77,
      "outputs": [
        {
          "output_type": "execute_result",
          "data": {
            "text/plain": [
              "{'아메리카노': 2000, '라테': 3000, '녹차': 2500}"
            ]
          },
          "metadata": {},
          "execution_count": 77
        }
      ]
    },
    {
      "cell_type": "code",
      "source": [
        "coffee['아메리카노']"
      ],
      "metadata": {
        "colab": {
          "base_uri": "https://localhost:8080/"
        },
        "id": "7P-6eH1w-4ar",
        "outputId": "3a2d064d-2d07-4570-cb9f-efc72500f68e"
      },
      "execution_count": 78,
      "outputs": [
        {
          "output_type": "execute_result",
          "data": {
            "text/plain": [
              "2000"
            ]
          },
          "metadata": {},
          "execution_count": 78
        }
      ]
    },
    {
      "cell_type": "code",
      "source": [
        "for k in coffee:\n",
        "  print(k)"
      ],
      "metadata": {
        "colab": {
          "base_uri": "https://localhost:8080/"
        },
        "id": "gLVGm4e6_Bae",
        "outputId": "efbd3f29-0f81-454f-bc7a-e68bba511fb7"
      },
      "execution_count": 81,
      "outputs": [
        {
          "output_type": "stream",
          "name": "stdout",
          "text": [
            "아메리카노\n",
            "라테\n",
            "녹차\n"
          ]
        }
      ]
    },
    {
      "cell_type": "code",
      "source": [
        "for k in coffee:\n",
        "  print(coffee[k])"
      ],
      "metadata": {
        "colab": {
          "base_uri": "https://localhost:8080/"
        },
        "id": "Pcq_nrWU_Tvq",
        "outputId": "c9f96a22-a89c-4f5b-c170-3ec90d8ff1e2"
      },
      "execution_count": 82,
      "outputs": [
        {
          "output_type": "stream",
          "name": "stdout",
          "text": [
            "2000\n",
            "3000\n",
            "2500\n"
          ]
        }
      ]
    },
    {
      "cell_type": "code",
      "source": [
        "for k,v in coffee.items():\n",
        "  print(k, v)"
      ],
      "metadata": {
        "colab": {
          "base_uri": "https://localhost:8080/"
        },
        "id": "jZa088hV_ody",
        "outputId": "3e1a24d9-636a-420f-f33b-9e8a998270d6"
      },
      "execution_count": 84,
      "outputs": [
        {
          "output_type": "stream",
          "name": "stdout",
          "text": [
            "아메리카노 2000\n",
            "라테 3000\n",
            "녹차 2500\n"
          ]
        }
      ]
    },
    {
      "cell_type": "code",
      "source": [
        "score={'홍길동':100, '이순신':90, '강감찬':80}\n",
        "for x in score:\n",
        "  print(score[x])"
      ],
      "metadata": {
        "colab": {
          "base_uri": "https://localhost:8080/"
        },
        "id": "rOCHbG2tAAOD",
        "outputId": "606d3ba7-b64d-4306-aa2c-52c25c3772b1"
      },
      "execution_count": 92,
      "outputs": [
        {
          "output_type": "stream",
          "name": "stdout",
          "text": [
            "100\n",
            "90\n",
            "80\n"
          ]
        }
      ]
    },
    {
      "cell_type": "code",
      "metadata": {
        "id": "7c66b56e"
      },
      "source": [
        "score = {'홍길동': 100, '이순신': 90, '강감찬': 80}\n",
        "\n",
        "# 총점 계산\n",
        "total_score = 0\n",
        "for s in score.values(): # 딕셔너리의 값들(점수)만 순회합니다.\n",
        "  total_score += s\n",
        "\n",
        "print(\"총점:\", total_score)\n",
        "\n",
        "# 평균 계산\n",
        "average_score = total_score / len(score) # 총점을 딕셔너리의 항목 개수로 나눕니다.\n",
        "\n",
        "print(\"평균:\", average_score)"
      ],
      "execution_count": null,
      "outputs": []
    },
    {
      "cell_type": "code",
      "source": [],
      "metadata": {
        "id": "mggzh4HPA4U5"
      },
      "execution_count": null,
      "outputs": []
    }
  ]
}