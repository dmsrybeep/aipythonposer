{
  "nbformat": 4,
  "nbformat_minor": 0,
  "metadata": {
    "colab": {
      "provenance": []
    },
    "kernelspec": {
      "name": "python3",
      "display_name": "Python 3"
    },
    "language_info": {
      "name": "python"
    }
  },
  "cells": [
    {
      "cell_type": "code",
      "source": [
        "#name 변수에 '홍길동'을 대입하고 age 변수에 18을 대입\n",
        "name='홍길동'\n",
        "age=18"
      ],
      "metadata": {
        "id": "N1qH-bG8ddBA"
      },
      "execution_count": null,
      "outputs": []
    },
    {
      "cell_type": "code",
      "source": [
        "name"
      ],
      "metadata": {
        "colab": {
          "base_uri": "https://localhost:8080/",
          "height": 35
        },
        "id": "Sjx8XafFdvcg",
        "outputId": "7910ae43-3867-4b16-a041-f75465a39487"
      },
      "execution_count": null,
      "outputs": [
        {
          "output_type": "execute_result",
          "data": {
            "text/plain": [
              "'홍길동'"
            ],
            "application/vnd.google.colaboratory.intrinsic+json": {
              "type": "string"
            }
          },
          "metadata": {},
          "execution_count": 7
        }
      ]
    },
    {
      "cell_type": "code",
      "source": [
        "age"
      ],
      "metadata": {
        "colab": {
          "base_uri": "https://localhost:8080/"
        },
        "id": "n36eFVPnd9Pv",
        "outputId": "5f1a0eda-7fd4-40bf-bf27-3081951a142a"
      },
      "execution_count": null,
      "outputs": [
        {
          "output_type": "execute_result",
          "data": {
            "text/plain": [
              "18"
            ]
          },
          "metadata": {},
          "execution_count": 8
        }
      ]
    },
    {
      "cell_type": "code",
      "source": [
        "print()"
      ],
      "metadata": {
        "colab": {
          "base_uri": "https://localhost:8080/"
        },
        "id": "ppmhnt6Od96P",
        "outputId": "288d507f-ec30-4b72-8a69-39e98816ef8d"
      },
      "execution_count": null,
      "outputs": [
        {
          "output_type": "stream",
          "name": "stdout",
          "text": [
            "\n"
          ]
        }
      ]
    },
    {
      "cell_type": "code",
      "source": [
        "print(name)"
      ],
      "metadata": {
        "colab": {
          "base_uri": "https://localhost:8080/"
        },
        "id": "E1vfyXBdeDbo",
        "outputId": "9ccc8f62-58aa-4ae9-a5c8-861eb0fc4844"
      },
      "execution_count": null,
      "outputs": [
        {
          "output_type": "stream",
          "name": "stdout",
          "text": [
            "홍길동\n"
          ]
        }
      ]
    },
    {
      "cell_type": "code",
      "source": [
        "print(age)"
      ],
      "metadata": {
        "colab": {
          "base_uri": "https://localhost:8080/"
        },
        "id": "rmX6teDaeGLv",
        "outputId": "4057ac90-5e7b-4f9d-9cf6-f8bb0c6940c1"
      },
      "execution_count": null,
      "outputs": [
        {
          "output_type": "stream",
          "name": "stdout",
          "text": [
            "18\n"
          ]
        }
      ]
    },
    {
      "cell_type": "code",
      "source": [
        "c=10"
      ],
      "metadata": {
        "id": "kIt16piEeMQA"
      },
      "execution_count": null,
      "outputs": []
    },
    {
      "cell_type": "code",
      "source": [
        "b=c"
      ],
      "metadata": {
        "id": "Ccm6xzCten1G"
      },
      "execution_count": null,
      "outputs": []
    },
    {
      "cell_type": "code",
      "source": [
        "a=b"
      ],
      "metadata": {
        "id": "imyFovPoe2iv"
      },
      "execution_count": null,
      "outputs": []
    },
    {
      "cell_type": "code",
      "source": [
        "print(a,b,c)"
      ],
      "metadata": {
        "colab": {
          "base_uri": "https://localhost:8080/"
        },
        "id": "vquR7h_2fCWu",
        "outputId": "f5d67851-1b69-4585-c346-d56b303793b9"
      },
      "execution_count": null,
      "outputs": [
        {
          "output_type": "stream",
          "name": "stdout",
          "text": [
            "10 10 10\n"
          ]
        }
      ]
    },
    {
      "cell_type": "code",
      "source": [
        "a+=10"
      ],
      "metadata": {
        "id": "K5JOErENg6VL"
      },
      "execution_count": null,
      "outputs": []
    },
    {
      "cell_type": "code",
      "source": [
        "print(a)"
      ],
      "metadata": {
        "colab": {
          "base_uri": "https://localhost:8080/"
        },
        "id": "FsNWSNeeg8A1",
        "outputId": "bfbe76af-181b-4226-e092-aa2edb324f79"
      },
      "execution_count": null,
      "outputs": [
        {
          "output_type": "stream",
          "name": "stdout",
          "text": [
            "20\n"
          ]
        }
      ]
    },
    {
      "cell_type": "code",
      "source": [
        "print(a)"
      ],
      "metadata": {
        "colab": {
          "base_uri": "https://localhost:8080/"
        },
        "id": "7vhwEGqHg9vt",
        "outputId": "0200138a-96dd-43f8-83e7-88fbcbf2aae5"
      },
      "execution_count": null,
      "outputs": [
        {
          "output_type": "stream",
          "name": "stdout",
          "text": [
            "20\n"
          ]
        }
      ]
    },
    {
      "cell_type": "code",
      "source": [
        "a-=10"
      ],
      "metadata": {
        "id": "KWH73i0bha5t"
      },
      "execution_count": null,
      "outputs": []
    },
    {
      "cell_type": "code",
      "source": [
        "print(a)"
      ],
      "metadata": {
        "colab": {
          "base_uri": "https://localhost:8080/"
        },
        "id": "WigFsFqrhc00",
        "outputId": "09a5a7fc-9503-4ae1-f295-ba1fe01387b7"
      },
      "execution_count": null,
      "outputs": [
        {
          "output_type": "stream",
          "name": "stdout",
          "text": [
            "10\n"
          ]
        }
      ]
    },
    {
      "cell_type": "code",
      "source": [
        "a=7"
      ],
      "metadata": {
        "id": "6PA4xkY5heGd"
      },
      "execution_count": null,
      "outputs": []
    },
    {
      "cell_type": "code",
      "source": [
        "b=11"
      ],
      "metadata": {
        "id": "AWCRsTm3jsoq"
      },
      "execution_count": null,
      "outputs": []
    },
    {
      "cell_type": "code",
      "source": [
        "a,b=b,a"
      ],
      "metadata": {
        "id": "WJq7awPMjt9y"
      },
      "execution_count": null,
      "outputs": []
    },
    {
      "cell_type": "code",
      "source": [
        "print(a,b)"
      ],
      "metadata": {
        "colab": {
          "base_uri": "https://localhost:8080/"
        },
        "id": "Q3Uds-RckAX5",
        "outputId": "4419ac82-2273-42e0-f347-42ed9a48a9dd"
      },
      "execution_count": null,
      "outputs": [
        {
          "output_type": "stream",
          "name": "stdout",
          "text": [
            "11 7\n"
          ]
        }
      ]
    },
    {
      "cell_type": "code",
      "source": [
        "print(a)"
      ],
      "metadata": {
        "colab": {
          "base_uri": "https://localhost:8080/"
        },
        "id": "mNpKR6VjkCga",
        "outputId": "bae97f3e-e45d-4c80-8f8b-3b9289f1a7c0"
      },
      "execution_count": null,
      "outputs": [
        {
          "output_type": "stream",
          "name": "stdout",
          "text": [
            "11\n"
          ]
        }
      ]
    },
    {
      "cell_type": "code",
      "source": [
        "multiples_of_3 = []"
      ],
      "metadata": {
        "id": "O9Ho1YT5kioJ"
      },
      "execution_count": null,
      "outputs": []
    },
    {
      "cell_type": "code",
      "source": [
        "current_multiple = 0"
      ],
      "metadata": {
        "id": "Bslwd0DRmKl-"
      },
      "execution_count": null,
      "outputs": []
    },
    {
      "cell_type": "code",
      "source": [
        "while len(multiples_of_3) < 5:\n",
        "  current_multiple += 3\n",
        "  multiples_of_3.append(current_multiple)"
      ],
      "metadata": {
        "id": "qVIOy48wmMfW"
      },
      "execution_count": null,
      "outputs": []
    },
    {
      "cell_type": "code",
      "source": [
        "multiples_of_3"
      ],
      "metadata": {
        "colab": {
          "base_uri": "https://localhost:8080/"
        },
        "id": "oC_FJVKpmPfW",
        "outputId": "c48d0d4e-2fbf-4bf4-ff8d-30be10764dab"
      },
      "execution_count": null,
      "outputs": [
        {
          "output_type": "execute_result",
          "data": {
            "text/plain": [
              "[3, 6, 9, 12, 15]"
            ]
          },
          "metadata": {},
          "execution_count": 61
        }
      ]
    },
    {
      "cell_type": "code",
      "source": [
        "a=20\n",
        "b=0o34\n",
        "c=0xA1\n",
        "d=0b1110"
      ],
      "metadata": {
        "id": "xLIWlN5ZrKW4"
      },
      "execution_count": 64,
      "outputs": []
    },
    {
      "cell_type": "code",
      "source": [
        "print (a,b,c,d)"
      ],
      "metadata": {
        "colab": {
          "base_uri": "https://localhost:8080/"
        },
        "id": "1EZf33kgrPWB",
        "outputId": "957e80a1-cd0a-4c72-d028-35d2d39df713"
      },
      "execution_count": 65,
      "outputs": [
        {
          "output_type": "stream",
          "name": "stdout",
          "text": [
            "20 28 161 14\n"
          ]
        }
      ]
    },
    {
      "cell_type": "code",
      "source": [
        "a='python'"
      ],
      "metadata": {
        "id": "dSnOVfPOrdBJ"
      },
      "execution_count": 66,
      "outputs": []
    },
    {
      "cell_type": "code",
      "source": [
        "a"
      ],
      "metadata": {
        "colab": {
          "base_uri": "https://localhost:8080/",
          "height": 35
        },
        "id": "Xv3Rd-ozt3B3",
        "outputId": "2c7c32fd-25fa-4732-86f7-455321cfd749"
      },
      "execution_count": 67,
      "outputs": [
        {
          "output_type": "execute_result",
          "data": {
            "text/plain": [
              "'python'"
            ],
            "application/vnd.google.colaboratory.intrinsic+json": {
              "type": "string"
            }
          },
          "metadata": {},
          "execution_count": 67
        }
      ]
    },
    {
      "cell_type": "code",
      "source": [
        "a=\"python\""
      ],
      "metadata": {
        "id": "5Vnvdm9dt3gO"
      },
      "execution_count": 68,
      "outputs": []
    },
    {
      "cell_type": "code",
      "source": [
        "a"
      ],
      "metadata": {
        "colab": {
          "base_uri": "https://localhost:8080/",
          "height": 35
        },
        "id": "ZDqCKKlwt5ie",
        "outputId": "5c2d318a-3a4c-4ace-947e-dfbeeb09eaf2"
      },
      "execution_count": 69,
      "outputs": [
        {
          "output_type": "execute_result",
          "data": {
            "text/plain": [
              "'python'"
            ],
            "application/vnd.google.colaboratory.intrinsic+json": {
              "type": "string"
            }
          },
          "metadata": {},
          "execution_count": 69
        }
      ]
    },
    {
      "cell_type": "code",
      "source": [
        "a='Hi'+'Python'"
      ],
      "metadata": {
        "id": "xPEftoL5t6N3"
      },
      "execution_count": 72,
      "outputs": []
    },
    {
      "cell_type": "code",
      "source": [
        "a"
      ],
      "metadata": {
        "colab": {
          "base_uri": "https://localhost:8080/",
          "height": 35
        },
        "id": "lzGL3_6GuBBH",
        "outputId": "cc50c8ee-f1a4-4d82-a0db-615482202b44"
      },
      "execution_count": 73,
      "outputs": [
        {
          "output_type": "execute_result",
          "data": {
            "text/plain": [
              "'HiPython'"
            ],
            "application/vnd.google.colaboratory.intrinsic+json": {
              "type": "string"
            }
          },
          "metadata": {},
          "execution_count": 73
        }
      ]
    },
    {
      "cell_type": "code",
      "source": [
        "a=10"
      ],
      "metadata": {
        "id": "_-QkHXgMuIov"
      },
      "execution_count": 74,
      "outputs": []
    },
    {
      "cell_type": "code",
      "source": [
        "b='10'"
      ],
      "metadata": {
        "id": "cNRytDe-v3Rl"
      },
      "execution_count": 75,
      "outputs": []
    },
    {
      "cell_type": "code",
      "source": [
        "c=a+int(b)"
      ],
      "metadata": {
        "id": "tHTzmz3Ov4cN"
      },
      "execution_count": 76,
      "outputs": []
    },
    {
      "cell_type": "code",
      "source": [
        "print(c)"
      ],
      "metadata": {
        "colab": {
          "base_uri": "https://localhost:8080/"
        },
        "id": "oae4_asgv8dt",
        "outputId": "787ba8fd-6b50-4331-d300-23bf00124b79"
      },
      "execution_count": 77,
      "outputs": [
        {
          "output_type": "stream",
          "name": "stdout",
          "text": [
            "20\n"
          ]
        }
      ]
    },
    {
      "cell_type": "code",
      "source": [
        "name='은교'"
      ],
      "metadata": {
        "id": "aFT2phWVv9h9"
      },
      "execution_count": 79,
      "outputs": []
    },
    {
      "cell_type": "code",
      "source": [
        "age=23"
      ],
      "metadata": {
        "id": "ITON6aYAwW17"
      },
      "execution_count": 80,
      "outputs": []
    },
    {
      "cell_type": "code",
      "source": [
        "print(name,age)"
      ],
      "metadata": {
        "colab": {
          "base_uri": "https://localhost:8080/"
        },
        "id": "j1oBuTaYwWBW",
        "outputId": "d9a4d2b3-0bc8-4738-909f-ad7f470644b6"
      },
      "execution_count": 81,
      "outputs": [
        {
          "output_type": "stream",
          "name": "stdout",
          "text": [
            "은교 23\n"
          ]
        }
      ]
    },
    {
      "cell_type": "code",
      "source": [
        "name=input()"
      ],
      "metadata": {
        "colab": {
          "base_uri": "https://localhost:8080/"
        },
        "id": "S90tKTOhwcrk",
        "outputId": "4351860b-9bf1-4359-aba5-5b93df3abe75"
      },
      "execution_count": 82,
      "outputs": [
        {
          "name": "stdout",
          "output_type": "stream",
          "text": [
            "은교\n"
          ]
        }
      ]
    },
    {
      "cell_type": "code",
      "source": [
        "age=input()"
      ],
      "metadata": {
        "colab": {
          "base_uri": "https://localhost:8080/"
        },
        "id": "xRJHuM5awkNU",
        "outputId": "3dc38ed4-4c65-4c77-e34f-cc6330f79be9"
      },
      "execution_count": 83,
      "outputs": [
        {
          "name": "stdout",
          "output_type": "stream",
          "text": [
            "23\n"
          ]
        }
      ]
    },
    {
      "cell_type": "code",
      "source": [
        "print(name,age)"
      ],
      "metadata": {
        "colab": {
          "base_uri": "https://localhost:8080/"
        },
        "id": "W-6jT69jwpXE",
        "outputId": "1be5d4e1-0203-478b-809c-3e0d32f44f3b"
      },
      "execution_count": 84,
      "outputs": [
        {
          "output_type": "stream",
          "name": "stdout",
          "text": [
            "은교 23\n"
          ]
        }
      ]
    },
    {
      "cell_type": "code",
      "source": [
        "name=input()\n",
        "age=input()"
      ],
      "metadata": {
        "colab": {
          "base_uri": "https://localhost:8080/"
        },
        "id": "tvEnvvMCwsGc",
        "outputId": "d11109d9-2c72-417c-e122-810bcab69189"
      },
      "execution_count": 85,
      "outputs": [
        {
          "name": "stdout",
          "output_type": "stream",
          "text": [
            "고릴라\n",
            "4\n"
          ]
        }
      ]
    },
    {
      "cell_type": "code",
      "source": [
        "name"
      ],
      "metadata": {
        "colab": {
          "base_uri": "https://localhost:8080/",
          "height": 35
        },
        "id": "E7DjNrJEwxnM",
        "outputId": "ed9aa884-319f-4bcb-a52b-aa52f34e62eb"
      },
      "execution_count": 86,
      "outputs": [
        {
          "output_type": "execute_result",
          "data": {
            "text/plain": [
              "'고릴라'"
            ],
            "application/vnd.google.colaboratory.intrinsic+json": {
              "type": "string"
            }
          },
          "metadata": {},
          "execution_count": 86
        }
      ]
    },
    {
      "cell_type": "code",
      "source": [
        "age"
      ],
      "metadata": {
        "colab": {
          "base_uri": "https://localhost:8080/",
          "height": 35
        },
        "id": "sBQ1hWYEw2Ak",
        "outputId": "3870a485-f061-425c-fb66-8066ab07773b"
      },
      "execution_count": 87,
      "outputs": [
        {
          "output_type": "execute_result",
          "data": {
            "text/plain": [
              "'4'"
            ],
            "application/vnd.google.colaboratory.intrinsic+json": {
              "type": "string"
            }
          },
          "metadata": {},
          "execution_count": 87
        }
      ]
    },
    {
      "cell_type": "code",
      "source": [],
      "metadata": {
        "id": "NK0lqU-GxYJa"
      },
      "execution_count": null,
      "outputs": []
    },
    {
      "cell_type": "code",
      "source": [
        "name=input('이름을 입력하세요')\n",
        "age=int(input('나이를 입력하세요'))"
      ],
      "metadata": {
        "colab": {
          "base_uri": "https://localhost:8080/"
        },
        "id": "bCP17-Znw23j",
        "outputId": "58ca750a-0768-4ec4-e539-5aee0a2e474a"
      },
      "execution_count": 99,
      "outputs": [
        {
          "name": "stdout",
          "output_type": "stream",
          "text": [
            "이름을 입력하세요은교\n",
            "나이를 입력하세요22\n"
          ]
        }
      ]
    },
    {
      "cell_type": "code",
      "source": [
        "age+=2"
      ],
      "metadata": {
        "id": "IWsKfDKtyiJi"
      },
      "execution_count": 100,
      "outputs": []
    },
    {
      "cell_type": "code",
      "source": [
        "age"
      ],
      "metadata": {
        "colab": {
          "base_uri": "https://localhost:8080/"
        },
        "id": "sJsF0xMMylaS",
        "outputId": "6b93faf2-e8ce-44a5-82ce-e2b28276bd5d"
      },
      "execution_count": 101,
      "outputs": [
        {
          "output_type": "execute_result",
          "data": {
            "text/plain": [
              "24"
            ]
          },
          "metadata": {},
          "execution_count": 101
        }
      ]
    },
    {
      "cell_type": "code",
      "source": [
        "a=int(input())\n",
        "b=int(input())\n",
        "c=a-b\n",
        "print(a,b,c)\n",
        "print(a)\n",
        "print(b,end='')\n",
        "print(c)"
      ],
      "metadata": {
        "colab": {
          "base_uri": "https://localhost:8080/"
        },
        "id": "5xOrx83uynbq",
        "outputId": "e3f66eb6-3501-4626-999d-d7c8c3e29a79"
      },
      "execution_count": 107,
      "outputs": [
        {
          "output_type": "stream",
          "name": "stdout",
          "text": [
            "9\n",
            "5\n",
            "9 5 4\n",
            "9\n",
            "54\n"
          ]
        }
      ]
    },
    {
      "cell_type": "code",
      "source": [
        "a"
      ],
      "metadata": {
        "id": "ADQh-OqgzBDp"
      },
      "execution_count": null,
      "outputs": []
    },
    {
      "cell_type": "code",
      "source": [
        "name = \"은교\"\n",
        "age = 23\n",
        "greeting = f\"안녕하세요, 제 이름은 {name}이고 나이는 {age}살입니다.\"\n",
        "print(greeting)"
      ],
      "metadata": {
        "colab": {
          "base_uri": "https://localhost:8080/"
        },
        "id": "UXqTAC2J0FjH",
        "outputId": "43f3733c-da15-4d7e-b95b-b096026504c9"
      },
      "execution_count": 110,
      "outputs": [
        {
          "output_type": "stream",
          "name": "stdout",
          "text": [
            "안녕하세요, 제 이름은 은교이고 나이는 23살입니다.\n"
          ]
        }
      ]
    },
    {
      "cell_type": "code",
      "source": [],
      "metadata": {
        "id": "AAKkoi3m1VDP"
      },
      "execution_count": null,
      "outputs": []
    },
    {
      "cell_type": "code",
      "metadata": {
        "id": "e799ff50"
      },
      "source": [
        "import math\n",
        "\n",
        "# 원의 반지름을 사용자로부터 입력받습니다.\n",
        "# input()으로 받은 값은 문자열이므로 float()으로 변환합니다.\n",
        "radius = float(input(\"원의 반지름을 입력하세요: \"))\n",
        "\n",
        "# 원의 넓이를 계산합니다.\n",
        "area = math.pi * (radius ** 2)\n",
        "\n",
        "# 계산된 원의 넓이를 출력합니다.\n",
        "print(f\"반지름이 {radius}인 원의 넓이는 {area:.2f}입니다.\") # .2f는 소수점 이하 둘째 자리까지 표시"
      ],
      "execution_count": null,
      "outputs": []
    },
    {
      "cell_type": "code",
      "source": [
        "원의반지름=float(input('원의반지름'))\n",
        "원의넓이=원의반지름**2\n",
        "print(원의넓이)"
      ],
      "metadata": {
        "colab": {
          "base_uri": "https://localhost:8080/"
        },
        "id": "UOjFY9nQ3AcD",
        "outputId": "5f492ee7-fab5-4966-a153-fe40ccce8ff0"
      },
      "execution_count": 113,
      "outputs": [
        {
          "output_type": "stream",
          "name": "stdout",
          "text": [
            "원의반지름2.4\n",
            "5.76\n"
          ]
        }
      ]
    },
    {
      "cell_type": "code",
      "source": [],
      "metadata": {
        "id": "UFHh8ITu3Ih1"
      },
      "execution_count": null,
      "outputs": []
    }
  ]
}