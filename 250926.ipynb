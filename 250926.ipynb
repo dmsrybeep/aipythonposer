{
  "nbformat": 4,
  "nbformat_minor": 0,
  "metadata": {
    "colab": {
      "provenance": []
    },
    "kernelspec": {
      "name": "python3",
      "display_name": "Python 3"
    },
    "language_info": {
      "name": "python"
    }
  },
  "cells": [
    {
      "cell_type": "code",
      "source": [
        "num=int(input(\"숫자를 입력하세요:\"))\n",
        "if num%2==0:\n",
        "  print(\"짝수입니다\")"
      ],
      "metadata": {
        "colab": {
          "base_uri": "https://localhost:8080/"
        },
        "id": "0yA-fDapiIgd",
        "outputId": "47467595-2b39-41c5-e4c5-3571b8c298db"
      },
      "execution_count": null,
      "outputs": [
        {
          "name": "stdout",
          "output_type": "stream",
          "text": [
            "숫자를 입력하세요:5\n"
          ]
        }
      ]
    },
    {
      "cell_type": "code",
      "source": [
        "num=int(input(\"숫자를 입력하세요:\"))\n",
        "if num%2==0:\n",
        "  print(\"짝수입니다\")\n",
        "else:\n",
        "  print(\"홀수입니다\")"
      ],
      "metadata": {
        "colab": {
          "base_uri": "https://localhost:8080/"
        },
        "id": "G-Lj493Djaf1",
        "outputId": "d1ef47c2-5bdb-470c-df04-81dbb4ec417e"
      },
      "execution_count": null,
      "outputs": [
        {
          "output_type": "stream",
          "name": "stdout",
          "text": [
            "숫자를 입력하세요:8\n",
            "짝수입니다\n"
          ]
        }
      ]
    },
    {
      "cell_type": "code",
      "source": [
        "score = int(input(\"점수를 입력하세요\"))\n",
        "if score >= 90:\n",
        "  credit = \"A\"\n",
        "elif score >= 70 and score <90:\n",
        "  credit = 'B'\n",
        "elif score>= 60 and score < 70:\n",
        "  credit = 'C'\n",
        "else:\n",
        "  credit = 'D'\n",
        "print(credit)"
      ],
      "metadata": {
        "colab": {
          "base_uri": "https://localhost:8080/"
        },
        "id": "FNgtSIP2jfBc",
        "outputId": "9003cc23-6c0d-4e6a-9759-f79e21203406"
      },
      "execution_count": 36,
      "outputs": [
        {
          "output_type": "stream",
          "name": "stdout",
          "text": [
            "점수를 입력하세요22\n",
            "D\n"
          ]
        }
      ]
    },
    {
      "cell_type": "code",
      "source": [
        "jumsu = int(input(\"점수를 입력하세요.\"))\n",
        "if jumsu >= 90:\n",
        "  print(\"A\")\n",
        "elif jumsu >= 70:\n",
        "  print (\"B\")\n",
        "elif jumsu >= 60:\n",
        "  print (\"C\")\n",
        "else:\n",
        "  print (\"D\")"
      ],
      "metadata": {
        "colab": {
          "base_uri": "https://localhost:8080/"
        },
        "id": "YJdY-OOspR-G",
        "outputId": "fe14bee4-ac2a-491f-9a08-642412cacfc2"
      },
      "execution_count": null,
      "outputs": [
        {
          "output_type": "stream",
          "name": "stdout",
          "text": [
            "점수를 입력하세요.665\n",
            "A\n"
          ]
        }
      ]
    },
    {
      "cell_type": "code",
      "source": [
        "jumsu = int(input(\"점수를 입력하세요: \"))\n",
        "if jumsu<=90 and jumsu >= 90:\n",
        "  print(\"A\")\n",
        "elif jumsu < 90 and jumsu >= 70 :\n",
        "  print (\"B\")\n",
        "elif jumsu < 70 and jumsu >= 60:\n",
        "  print (\"C\")\n",
        "elif jumsu <60 and jumsu >= 0:\n",
        "  print (\"D\")\n",
        "else:\n",
        "  print (\"잘못된 점수입니다.\")"
      ],
      "metadata": {
        "colab": {
          "base_uri": "https://localhost:8080/"
        },
        "id": "-OdWplqJqg2-",
        "outputId": "13d44e70-c580-403e-a793-ba3440a33a69"
      },
      "execution_count": null,
      "outputs": [
        {
          "output_type": "stream",
          "name": "stdout",
          "text": [
            "점수를 입력하세요: 23223\n",
            "잘못된 점수입니다.\n"
          ]
        }
      ]
    },
    {
      "cell_type": "code",
      "source": [
        "score = int(input(\"점수를 입력하세요: \"))\n",
        "\n",
        "if score >= 0 and score <= 100:\n",
        "  if score >= 90:\n",
        "    print(\"학점: A\")\n",
        "  elif score >= 70:\n",
        "    print(\"학점: B\")\n",
        "  elif score >= 60:\n",
        "    print (\"학점: C\")\n",
        "  else:\n",
        "    print(\"학점: D\")\n",
        "else:\n",
        "  print(\"잘못된 점수입니다.\")"
      ],
      "metadata": {
        "colab": {
          "base_uri": "https://localhost:8080/"
        },
        "id": "8oFXoWnjrnhE",
        "outputId": "1786570b-761a-48d1-8dc5-bb045e9b8ba5"
      },
      "execution_count": 37,
      "outputs": [
        {
          "output_type": "stream",
          "name": "stdout",
          "text": [
            "점수를 입력하세요: 66\n",
            "학점: C\n"
          ]
        }
      ]
    },
    {
      "cell_type": "code",
      "source": [
        "sum = 0\n",
        "\n",
        "for a in range(1,6):\n",
        "    sum = sum + a\n",
        "print(sum)"
      ],
      "metadata": {
        "id": "I5OAjuyZsL3c",
        "colab": {
          "base_uri": "https://localhost:8080/"
        },
        "outputId": "84249363-253a-44e6-a63e-66bdcd01a341"
      },
      "execution_count": 42,
      "outputs": [
        {
          "output_type": "stream",
          "name": "stdout",
          "text": [
            "15\n"
          ]
        }
      ]
    },
    {
      "cell_type": "code",
      "source": [
        "sum1 = 0\n",
        "sum2 = 0\n",
        "for a in range(1,100):\n",
        "  if a %2 == 1:\n",
        "    sum1 = sum1 + a\n",
        "  else:\n",
        "    sum2 = sum2 + a\n",
        "print(sum1, sum2)"
      ],
      "metadata": {
        "colab": {
          "base_uri": "https://localhost:8080/"
        },
        "id": "NEvkL7bgx9CO",
        "outputId": "462792d8-429b-41f7-d4ec-2616d26f4586"
      },
      "execution_count": 54,
      "outputs": [
        {
          "output_type": "stream",
          "name": "stdout",
          "text": [
            "2500 2450\n"
          ]
        }
      ]
    },
    {
      "cell_type": "code",
      "source": [
        "sum1 = 0 # 홀수 합\n",
        "sum2 = 0 # 짝수 합\n",
        "\n",
        "for a in range(1,100):\n",
        "  if a % 2 == 1: # a가 홀수이면\n",
        "    sum1 = sum1 + a # sum1에 더함\n",
        "  else: # a가 짝수이면 (a % 2 == 0)\n",
        "    sum2 = sum2 + a # sum2에 더함\n",
        "\n",
        "print(\"1부터 99까지의 홀수 합:\", sum1)\n",
        "print(\"1부터 99까지의 짝수 합:\", sum2)"
      ],
      "metadata": {
        "colab": {
          "base_uri": "https://localhost:8080/"
        },
        "id": "d2yuS_kUz1FM",
        "outputId": "cecb5557-c0ef-47cd-8897-df9fae1cf9c2"
      },
      "execution_count": 48,
      "outputs": [
        {
          "output_type": "stream",
          "name": "stdout",
          "text": [
            "1부터 99까지의 홀수 합: 2500\n",
            "1부터 99까지의 짝수 합: 2450\n"
          ]
        }
      ]
    },
    {
      "cell_type": "code",
      "source": [
        "sum1 = 0\n",
        "sum2 = 0\n",
        "\n",
        "for a in range(1,100):\n",
        "  if a % 2 == 1:\n",
        "    sum1 = sum1 + a\n",
        "  else:\n",
        "    sum2 = sum2 + a\n",
        "\n",
        "print(sum1)\n",
        "print(sum2)"
      ],
      "metadata": {
        "colab": {
          "base_uri": "https://localhost:8080/"
        },
        "id": "HSD7ytU40tyz",
        "outputId": "054247e1-69ee-461f-a586-79996b09b1e7"
      },
      "execution_count": 50,
      "outputs": [
        {
          "output_type": "stream",
          "name": "stdout",
          "text": [
            "2500\n",
            "2450\n"
          ]
        }
      ]
    },
    {
      "cell_type": "code",
      "source": [
        "sum = 0\n",
        "money = 100\n",
        "day = 1\n",
        "\n",
        "while sum < 50000:\n",
        "  sum = sum + money\n",
        "  money = money + 100\n",
        "  day = day + 100\n",
        "\n",
        "print(\"총\", day, \"일이 걸립니다.\")"
      ],
      "metadata": {
        "colab": {
          "base_uri": "https://localhost:8080/"
        },
        "id": "GEh4yoPz0zbK",
        "outputId": "b13f6a63-2e7f-4b2b-89a1-c0244c890b77"
      },
      "execution_count": 57,
      "outputs": [
        {
          "output_type": "stream",
          "name": "stdout",
          "text": [
            "총 3201 일이 걸립니다.\n"
          ]
        }
      ]
    },
    {
      "cell_type": "code",
      "source": [
        "sum = 0\n",
        "num = int(input(\"숫자를 입력하세요:\"))\n",
        "while num != 0:\n",
        "  sum = sum + num\n",
        "  num = int(input(\"숫자를 입력하세요:\"))\n",
        "  if num == 0:\n",
        "    print (sum)\n"
      ],
      "metadata": {
        "colab": {
          "base_uri": "https://localhost:8080/"
        },
        "id": "60onn3n_49y2",
        "outputId": "9aefc94d-bc0d-46f2-e272-1e207fea6728"
      },
      "execution_count": 81,
      "outputs": [
        {
          "output_type": "stream",
          "name": "stdout",
          "text": [
            "숫자를 입력하세요:44\n",
            "숫자를 입력하세요:44\n",
            "숫자를 입력하세요:666\n",
            "숫자를 입력하세요:85\n",
            "숫자를 입력하세요:35\n",
            "숫자를 입력하세요:0\n",
            "874\n"
          ]
        }
      ]
    },
    {
      "cell_type": "code",
      "source": [
        ""
      ],
      "metadata": {
        "id": "Tjp54K-45Zvt"
      },
      "execution_count": null,
      "outputs": []
    }
  ]
}